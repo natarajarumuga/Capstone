{
 "cells": [
  {
   "cell_type": "markdown",
   "metadata": {},
   "source": [
    "## Introduction :\n",
    "Tampa bay is known for various things like vacation spots, beautiful beaches, water sports, theme parks, lively entertainment areas like Sundial, AMCs etc. For people who are searching and analyzing for short time trips, move-in to Tampa bay from other locations this project can be a starting point to identify the county/city which will be suitable for thier own needs like Restaurants, MOvie theaters, clubs, Gym, Parks etc.\n",
    "\n",
    "This project will provide a brief idea about few counties and  located in Tampa bay like Pasco, hillsborough, Pinellas.\n",
    "This looks at neighborhoods and locations nearby and helps anyone to choose the best place to live within any given city based on the preferences satisfied.\n",
    "\n",
    "## Description about the Data:\n",
    "\n",
    "The data set includes the coordinates of the cities/neighborhoods in the USA in JSON format with the county, latitude, longitude. If a better dataset is found , i will modify the logic to provide more insights into details venues and in depth comparison. With the available data the project is designed to use location coordinates and tag each data point into a neighborhood in few Counties in Florida -Tampa bay - Pasco, Hillsborough and Pinellas county. The algorithm used is k-means clustering. The main idea is to determine neighborhood with venues clustered around each other so that one can make a decision on the right neighborhood to chose based on the person's requirements. \n",
    "\n",
    "Data set: https://raw.githubusercontent.com/natarajarumuga/Capstone/master/us_cities.json\n",
    "\n"
   ]
  },
  {
   "cell_type": "code",
   "execution_count": null,
   "metadata": {},
   "outputs": [],
   "source": []
  }
 ],
 "metadata": {
  "kernelspec": {
   "display_name": "Python 3",
   "language": "python",
   "name": "python3"
  },
  "language_info": {
   "codemirror_mode": {
    "name": "ipython",
    "version": 3
   },
   "file_extension": ".py",
   "mimetype": "text/x-python",
   "name": "python",
   "nbconvert_exporter": "python",
   "pygments_lexer": "ipython3",
   "version": "3.7.1"
  }
 },
 "nbformat": 4,
 "nbformat_minor": 2
}
